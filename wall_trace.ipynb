{
  "nbformat": 4,
  "nbformat_minor": 0,
  "metadata": {
    "colab": {
      "name": "wall trace.ipynb",
      "version": "0.3.2",
      "provenance": [],
      "collapsed_sections": [],
      "include_colab_link": true
    },
    "kernelspec": {
      "name": "python3",
      "display_name": "Python 3"
    }
  },
  "cells": [
    {
      "cell_type": "markdown",
      "metadata": {
        "id": "view-in-github",
        "colab_type": "text"
      },
      "source": [
        "<a href=\"https://colab.research.google.com/github/pelegharel/robotics-final/blob/master/wall_trace.ipynb\" target=\"_parent\"><img src=\"https://colab.research.google.com/assets/colab-badge.svg\" alt=\"Open In Colab\"/></a>"
      ]
    },
    {
      "metadata": {
        "id": "S5g05oArZ2fb",
        "colab_type": "text"
      },
      "cell_type": "markdown",
      "source": [
        "# Only run on google collab"
      ]
    },
    {
      "metadata": {
        "id": "ajE0cEI6Zyes",
        "colab_type": "code",
        "outputId": "03746c4c-c6fb-4fa5-9573-f5cd49d7bcd4",
        "colab": {
          "base_uri": "https://localhost:8080/",
          "height": 126
        }
      },
      "cell_type": "code",
      "source": [
        "!rm -rf robotics-final\n",
        "!git clone https://github.com/pelegharel/robotics-final.git"
      ],
      "execution_count": 1,
      "outputs": [
        {
          "output_type": "stream",
          "text": [
            "Cloning into 'robotics-final'...\n",
            "remote: Enumerating objects: 15, done.\u001b[K\n",
            "remote: Counting objects:   6% (1/15)   \u001b[K\rremote: Counting objects:  13% (2/15)   \u001b[K\rremote: Counting objects:  20% (3/15)   \u001b[K\rremote: Counting objects:  26% (4/15)   \u001b[K\rremote: Counting objects:  33% (5/15)   \u001b[K\rremote: Counting objects:  40% (6/15)   \u001b[K\rremote: Counting objects:  46% (7/15)   \u001b[K\rremote: Counting objects:  53% (8/15)   \u001b[K\rremote: Counting objects:  60% (9/15)   \u001b[K\rremote: Counting objects:  66% (10/15)   \u001b[K\rremote: Counting objects:  73% (11/15)   \u001b[K\rremote: Counting objects:  80% (12/15)   \u001b[K\rremote: Counting objects:  86% (13/15)   \u001b[K\rremote: Counting objects:  93% (14/15)   \u001b[K\rremote: Counting objects: 100% (15/15)   \u001b[K\rremote: Counting objects: 100% (15/15), done.\u001b[K\n",
            "remote: Compressing objects:   7% (1/13)   \u001b[K\rremote: Compressing objects:  15% (2/13)   \u001b[K\rremote: Compressing objects:  23% (3/13)   \u001b[K\rremote: Compressing objects:  30% (4/13)   \u001b[K\rremote: Compressing objects:  38% (5/13)   \u001b[K\rremote: Compressing objects:  46% (6/13)   \u001b[K\rremote: Compressing objects:  53% (7/13)   \u001b[K\rremote: Compressing objects:  61% (8/13)   \u001b[K\rremote: Compressing objects:  69% (9/13)   \u001b[K\rremote: Compressing objects:  76% (10/13)   \u001b[K\rremote: Compressing objects:  84% (11/13)   \u001b[K\rremote: Compressing objects:  92% (12/13)   \u001b[K\rremote: Compressing objects: 100% (13/13)   \u001b[K\rremote: Compressing objects: 100% (13/13), done.\u001b[K\n",
            "remote: Total 15 (delta 3), reused 0 (delta 0), pack-reused 0\u001b[K\n",
            "Unpacking objects:   6% (1/15)   \rUnpacking objects:  13% (2/15)   \rUnpacking objects:  20% (3/15)   \rUnpacking objects:  26% (4/15)   \rUnpacking objects:  33% (5/15)   \rUnpacking objects:  40% (6/15)   \rUnpacking objects:  46% (7/15)   \rUnpacking objects:  53% (8/15)   \rUnpacking objects:  60% (9/15)   \rUnpacking objects:  66% (10/15)   \rUnpacking objects:  73% (11/15)   \rUnpacking objects:  80% (12/15)   \rUnpacking objects:  86% (13/15)   \rUnpacking objects:  93% (14/15)   \rUnpacking objects: 100% (15/15)   \rUnpacking objects: 100% (15/15), done.\n"
          ],
          "name": "stdout"
        }
      ]
    },
    {
      "metadata": {
        "id": "i-kuq8C5yjJ0",
        "colab_type": "code",
        "colab": {}
      },
      "cell_type": "code",
      "source": [
        "import numpy as np\n",
        "from numpy.linalg import norm\n",
        "from matplotlib import pyplot as plt\n",
        "from ipywidgets import interact\n",
        "from ipywidgets import widgets\n",
        "from IPython.display import display\n",
        "\n",
        "import cv2"
      ],
      "execution_count": 0,
      "outputs": []
    },
    {
      "metadata": {
        "id": "0rgdBJQgFKh4",
        "colab_type": "code",
        "colab": {}
      },
      "cell_type": "code",
      "source": [
        "def unit_vector(vector):\n",
        "  return vector / norm(vector)\n",
        "\n",
        "def unit_vectors(vectors):\n",
        "    \"\"\" Returns the unit vector of the vector.  \"\"\"\n",
        "    return vectors / norm(vectors, axis=1).reshape(-1, 1)\n",
        "\n",
        "def angles2vecs(robot_rotation, point_vectors):\n",
        "    v1 = unit_vector(robot_rotation)\n",
        "    v2s = unit_vectors(point_vectors)\n",
        "    cosines = v2s @ v1.reshape(2, 1)\n",
        "    sinuses = np.column_stack((-v2s[:,1], v2s[:,0])) @ v1.reshape(2, 1)\n",
        "    return np.arctan2(sinuses, cosines)\n",
        "  \n",
        "def calc_right_points(occ_points, robot_pos, robot_rotation):\n",
        "  vectors = occ_points - robot_pos\n",
        "  angles = angles2vecs(robot_rotation, vectors)\n",
        "  return occ_points[np.where(angles > 0)[0]]\n",
        "  \n",
        "def closest_point(robot_pos, right_points):\n",
        "  norms = norm(robot_pos - right_points, axis=1)\n",
        "  return right_points[np.argmin(norms)]"
      ],
      "execution_count": 0,
      "outputs": []
    },
    {
      "metadata": {
        "id": "NqS1ZQXolgLY",
        "colab_type": "code",
        "colab": {}
      },
      "cell_type": "code",
      "source": [
        "def plot_state(world_map,\n",
        "               points_of_right,\n",
        "               min_right_point,\n",
        "               robot_pos,\n",
        "               robot_rotation):\n",
        "  \"\"\"\n",
        "  Plots the map of the world and deduced properties\n",
        "  \"\"\"\n",
        "  plt.imshow(world_map)\n",
        "  plt.scatter(points_of_right[:,1],\n",
        "              points_of_right[:,0],\n",
        "              color='green')\n",
        "  \n",
        "  plt.scatter(*min_right_point[::-1], color='blue')  \n",
        "  plt.scatter(*robot_pos[::-1], color='red')\n",
        "  plt.arrow(robot_pos[1], robot_pos[0],\n",
        "            3 * robot_rotation[1],\n",
        "            3 * robot_rotation[0],\n",
        "            color='red')"
      ],
      "execution_count": 0,
      "outputs": []
    },
    {
      "metadata": {
        "colab_type": "code",
        "outputId": "dab85b55-1543-4727-dc4a-a0c9f98d68c0",
        "id": "arObDJzc05tC",
        "colab": {
          "base_uri": "https://localhost:8080/",
          "height": 274
        }
      },
      "cell_type": "code",
      "source": [
        "CAVANT = 254\n",
        "UKNOWN = 205\n",
        "OCCUPIED = 0\n",
        "\n",
        "wm = cv2.imread(\"robotics-final/map.pgm\")[150:200, 150:250, 1]\n",
        "robot_pos = (33, 55)\n",
        "\n",
        "robot_rotation = (0, -1)\n",
        "\n",
        "points_of_right = calc_right_points(occ_points=np.argwhere(wm == OCCUPIED),\n",
        "                                       robot_pos=robot_pos,\n",
        "                                       robot_rotation=robot_rotation)\n",
        "plot_state(wm,\n",
        "           points_of_right=points_of_right,\n",
        "           min_right_point=closest_point(robot_pos, points_of_right),\n",
        "           robot_pos=robot_pos,\n",
        "           robot_rotation=robot_rotation)"
      ],
      "execution_count": 28,
      "outputs": [
        {
          "output_type": "display_data",
          "data": {
            "image/png": "[encoded data removed]",
            "text/plain": [
              "<Figure size 576x396 with 1 Axes>"
            ]
          },
          "metadata": {
            "tags": []
          }
        }
      ]
    }
  ]
}