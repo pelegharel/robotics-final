{
  "nbformat": 4,
  "nbformat_minor": 0,
  "metadata": {
    "colab": {
      "name": "wall trace.ipynb",
      "version": "0.3.2",
      "provenance": [],
      "collapsed_sections": [],
      "include_colab_link": true
    },
    "kernelspec": {
      "name": "python3",
      "display_name": "Python 3"
    }
  },
  "cells": [
    {
      "cell_type": "markdown",
      "metadata": {
        "id": "view-in-github",
        "colab_type": "text"
      },
      "source": [
        "<a href=\"https://colab.research.google.com/github/pelegharel/robotics-final/blob/master/wall_trace.ipynb\" target=\"_parent\"><img src=\"https://colab.research.google.com/assets/colab-badge.svg\" alt=\"Open In Colab\"/></a>"
      ]
    },
    {
      "metadata": {
        "id": "ajE0cEI6Zyes",
        "colab_type": "code",
        "outputId": "da7ed5d2-4fcb-40dd-8948-ad58cdcbbe32",
        "colab": {
          "base_uri": "https://localhost:8080/",
          "height": 126
        }
      },
      "cell_type": "code",
      "source": [
        "!rm -rf robotics-final\n",
        "!git clone https://github.com/pelegharel/robotics-final.git"
      ],
      "execution_count": 62,
      "outputs": [
        {
          "output_type": "stream",
          "text": [
            "Cloning into 'robotics-final'...\n",
            "remote: Enumerating objects: 18, done.\u001b[K\n",
            "remote: Counting objects:   5% (1/18)   \u001b[K\rremote: Counting objects:  11% (2/18)   \u001b[K\rremote: Counting objects:  16% (3/18)   \u001b[K\rremote: Counting objects:  22% (4/18)   \u001b[K\rremote: Counting objects:  27% (5/18)   \u001b[K\rremote: Counting objects:  33% (6/18)   \u001b[K\rremote: Counting objects:  38% (7/18)   \u001b[K\rremote: Counting objects:  44% (8/18)   \u001b[K\rremote: Counting objects:  50% (9/18)   \u001b[K\rremote: Counting objects:  55% (10/18)   \u001b[K\rremote: Counting objects:  61% (11/18)   \u001b[K\rremote: Counting objects:  66% (12/18)   \u001b[K\rremote: Counting objects:  72% (13/18)   \u001b[K\rremote: Counting objects:  77% (14/18)   \u001b[K\rremote: Counting objects:  83% (15/18)   \u001b[K\rremote: Counting objects:  88% (16/18)   \u001b[K\rremote: Counting objects:  94% (17/18)   \u001b[K\rremote: Counting objects: 100% (18/18)   \u001b[K\rremote: Counting objects: 100% (18/18), done.\u001b[K\n",
            "remote: Compressing objects:   6% (1/16)   \u001b[K\rremote: Compressing objects:  12% (2/16)   \u001b[K\rremote: Compressing objects:  18% (3/16)   \u001b[K\rremote: Compressing objects:  25% (4/16)   \u001b[K\rremote: Compressing objects:  31% (5/16)   \u001b[K\rremote: Compressing objects:  37% (6/16)   \u001b[K\rremote: Compressing objects:  43% (7/16)   \u001b[K\rremote: Compressing objects:  50% (8/16)   \u001b[K\rremote: Compressing objects:  56% (9/16)   \u001b[K\rremote: Compressing objects:  62% (10/16)   \u001b[K\rremote: Compressing objects:  68% (11/16)   \u001b[K\rremote: Compressing objects:  75% (12/16)   \u001b[K\rremote: Compressing objects:  81% (13/16)   \u001b[K\rremote: Compressing objects:  87% (14/16)   \u001b[K\rremote: Compressing objects:  93% (15/16)   \u001b[K\rremote: Compressing objects: 100% (16/16)   \u001b[K\rremote: Compressing objects: 100% (16/16), done.\u001b[K\n",
            "Unpacking objects:   5% (1/18)   \rUnpacking objects:  11% (2/18)   \rUnpacking objects:  16% (3/18)   \rUnpacking objects:  22% (4/18)   \rUnpacking objects:  27% (5/18)   \rUnpacking objects:  33% (6/18)   \rUnpacking objects:  38% (7/18)   \rUnpacking objects:  44% (8/18)   \rUnpacking objects:  50% (9/18)   \rUnpacking objects:  55% (10/18)   \rUnpacking objects:  61% (11/18)   \rUnpacking objects:  66% (12/18)   \rUnpacking objects:  72% (13/18)   \rremote: Total 18 (delta 4), reused 0 (delta 0), pack-reused 0\u001b[K\n",
            "Unpacking objects:  77% (14/18)   \rUnpacking objects:  83% (15/18)   \rUnpacking objects:  88% (16/18)   \rUnpacking objects:  94% (17/18)   \rUnpacking objects: 100% (18/18)   \rUnpacking objects: 100% (18/18), done.\n"
          ],
          "name": "stdout"
        }
      ]
    },
    {
      "metadata": {
        "id": "i-kuq8C5yjJ0",
        "colab_type": "code",
        "colab": {}
      },
      "cell_type": "code",
      "source": [
        "import numpy as np\n",
        "from numpy.linalg import norm\n",
        "from matplotlib import pyplot as plt\n",
        "from ipywidgets import interact\n",
        "from ipywidgets import widgets\n",
        "from IPython.display import display\n",
        "from itertools import islice, cycle\n",
        "import cv2"
      ],
      "execution_count": 0,
      "outputs": []
    },
    {
      "metadata": {
        "id": "0rgdBJQgFKh4",
        "colab_type": "code",
        "colab": {}
      },
      "cell_type": "code",
      "source": [
        "def unit_vector(vector):\n",
        "  \"\"\"\n",
        "  Returns a normalized vector of length 1\n",
        "  \"\"\"\n",
        "  return vector / norm(vector)\n",
        "\n",
        "def unit_vectors(vectors):\n",
        "    \"\"\" Returns the unit vector of the vector.\"\"\"\n",
        "    return vectors / norm(vectors, axis=1).reshape(-1, 1)\n",
        "\n",
        "def angle_between_many(vector, vector_collection):\n",
        "    \"\"\"\n",
        "    Calculates the angles between one 2D vector vec (An array of size 2)\n",
        "    to a collection of vectors (an array of size n X 2)\n",
        "    \"\"\"\n",
        "    v1 = unit_vector(vector).reshape(2, 1)\n",
        "    v2s = unit_vectors(vector_collection)\n",
        "    \n",
        "    cosines = v2s @ v1\n",
        "    sinuses = np.column_stack((-v2s[:,1], v2s[:,0])) @ v1\n",
        "    \n",
        "    return np.arctan2(sinuses, cosines)\n",
        "  \n",
        "def find_rightside_points(robot_pos, robot_rotation, points_to_filter):\n",
        "  \"\"\"\n",
        "  Given a robot position (row, col) and rotation vectors, \n",
        "  returns only the points there are to the right of the robot\n",
        "  from the point of view of the robot.\n",
        "  \"\"\"\n",
        "  vectors = points_to_filter - robot_pos\n",
        "  angles = angle2vecs(robot_rotation, vectors)\n",
        "  return points_to_filter[np.where(angles > 0)[0]]\n",
        "  \n",
        "def closest_point(robot_pos, points):\n",
        "  \"\"\"\n",
        "  Given a robot position and a collection of points,\n",
        "  returns the colsest point\n",
        "  \"\"\"\n",
        "  norms = norm(robot_pos - points, axis=1)\n",
        "  return points[np.argmin(norms)]"
      ],
      "execution_count": 0,
      "outputs": []
    },
    {
      "metadata": {
        "id": "a3SpSPu5-4gl",
        "colab_type": "code",
        "colab": {}
      },
      "cell_type": "code",
      "source": [
        "cycle?"
      ],
      "execution_count": 0,
      "outputs": []
    },
    {
      "metadata": {
        "id": "Jf_zebnI2sZ5",
        "colab_type": "code",
        "colab": {}
      },
      "cell_type": "code",
      "source": [
        "NEIGHBORS_8_CW = [(0, 1),\n",
        "                  (1, 1),\n",
        "                  (1, 0),\n",
        "                  (1, -1),\n",
        "                  (0, -1),\n",
        "                  (-1, -1),\n",
        "                  (-1, 0),\n",
        "                  (-1, 1)]\n",
        "\n",
        "NEIGHBORS_8_CCW = NEIGHBORS_8_CW[::-1]\n",
        "\n",
        "def neighbor_by_angle(theta):\n",
        "  \"\"\"\n",
        "  Given an angle, calculate the matching 8 neighbor of point (0,0).\n",
        "  Assuming row, column coordinates and\n",
        "  that the angle is relative to vector (0, 1)\n",
        "  \"\"\"\n",
        "  if theta < 0:\n",
        "    theta = 2 * np.pi  + theta\n",
        "  return NEIGHBORS_8_CW[int(theta // (np.pi / 4)) % 8]\n",
        "\n",
        "def cw_neighbors_from(neighbor):\n",
        "  \"\"\"\n",
        "  Given a nieghbor, returns the 8 neighbors starting from that position\n",
        "  advencing at a clockwise manner.\n",
        "  \"\"\"\n",
        "  start = NEIGHBORS_8_CW.index(neighbor)\n",
        "  it = cycle(NEIGHBORS_8_CW)\n",
        "  return list(islice(it, start, start + 8))\n",
        "\n",
        "def ccw_neighbors_from(neighbor):\n",
        "  \"\"\"\n",
        "  Given a nieghbor, returns the 8 neighbors starting from that position\n",
        "  advencing at a counter clockwise manner.\n",
        "  \"\"\"\n",
        "  start = NEIGHBORS_8_CCW.index(neighbor)\n",
        "  it = cycle(NEIGHBORS_8_CCW)\n",
        "  return list(islice(it, start, start + 8))\n",
        "\n",
        "def neighbors_from(pos, neighbors):\n",
        "  return [np.add(pos, n) for n in neighbors]\n",
        "\n",
        "def track_start_point(wmap, robot_position, wall_point):\n",
        "  vec = np.subtract(wall_point, robot_position)\n",
        "  neighbor = neighbor_by_angle(np.arctan2(vec[0], vec[1]))\n",
        "  \n",
        "  \n",
        "  return next(((r, c)\n",
        "               for r, c in neighbors_from(wall_point,\n",
        "                                          ccw_neighbors_from(neighbor))\n",
        "               if wmap[r, c] == VACANT),\n",
        "              None)\n",
        "  "
      ],
      "execution_count": 0,
      "outputs": []
    },
    {
      "metadata": {
        "id": "NqS1ZQXolgLY",
        "colab_type": "code",
        "colab": {}
      },
      "cell_type": "code",
      "source": [
        "def plot_state(world_map,\n",
        "               points_of_right,\n",
        "               min_right_point,\n",
        "               robot_pos,\n",
        "               robot_rotation):\n",
        "  \"\"\"\n",
        "  Plots the map of the world and deduced properties\n",
        "  \"\"\"\n",
        "  plt.imshow(world_map)\n",
        "  plt.scatter(points_of_right[:,1],\n",
        "              points_of_right[:,0],\n",
        "              color='green')\n",
        "  \n",
        "  plt.scatter(*min_right_point[::-1], color='blue')  \n",
        "  plt.scatter(*robot_pos[::-1], color='red')\n",
        "  plt.arrow(robot_pos[1], robot_pos[0],\n",
        "            3 * robot_rotation[1],\n",
        "            3 * robot_rotation[0],\n",
        "            color='red')"
      ],
      "execution_count": 0,
      "outputs": []
    },
    {
      "metadata": {
        "colab_type": "code",
        "outputId": "2236ac2b-93d6-419d-edc1-14de9f1ff0d7",
        "id": "arObDJzc05tC",
        "colab": {
          "base_uri": "https://localhost:8080/",
          "height": 292
        }
      },
      "cell_type": "code",
      "source": [
        "VACANT = 254\n",
        "UKNOWN = 205\n",
        "OCCUPIED = 0\n",
        "\n",
        "wm = cv2.imread(\"robotics-final/map.pgm\")[150:200, 150:250, 1]\n",
        "robot_pos = (33, 55)\n",
        "\n",
        "robot_rotation = (1, -1)\n",
        "\n",
        "rightside_points = find_rightside_points(robot_pos,\n",
        "                                         robot_rotation,\n",
        "                                         np.argwhere(wm == OCCUPIED))\n",
        "\n",
        "min_right_point = closest_point(robot_pos, rightside_points)\n",
        "\n",
        "plot_state(wm,\n",
        "           points_of_right=rightside_points,\n",
        "           min_right_point=min_right_point,\n",
        "           robot_pos=robot_pos,\n",
        "           robot_rotation=robot_rotation)\n",
        "\n",
        "\n",
        "pp = track_start_point(wm, robot_pos, min_right_point)\n",
        "plt.scatter(pp[1], pp[0], color=\"pink\")"
      ],
      "execution_count": 106,
      "outputs": [
        {
          "output_type": "execute_result",
          "data": {
            "text/plain": [
              "<matplotlib.collections.PathCollection at 0x7f2e80abecc0>"
            ]
          },
          "metadata": {
            "tags": []
          },
          "execution_count": 106
        },
        {
          "output_type": "display_data",
          "data": {
            "image/png": "[encoded data removed]",
            "text/plain": [
              "<Figure size 576x396 with 1 Axes>"
            ]
          },
          "metadata": {
            "tags": []
          }
        }
      ]
    }
  ]
}