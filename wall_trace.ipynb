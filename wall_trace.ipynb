{
  "nbformat": 4,
  "nbformat_minor": 0,
  "metadata": {
    "colab": {
      "name": "wall trace.ipynb",
      "version": "0.3.2",
      "provenance": [],
      "collapsed_sections": [],
      "include_colab_link": true
    },
    "kernelspec": {
      "name": "python3",
      "display_name": "Python 3"
    }
  },
  "cells": [
    {
      "cell_type": "markdown",
      "metadata": {
        "id": "view-in-github",
        "colab_type": "text"
      },
      "source": [
        "<a href=\"https://colab.research.google.com/github/pelegharel/robotics-final/blob/master/wall_trace.ipynb\" target=\"_parent\"><img src=\"https://colab.research.google.com/assets/colab-badge.svg\" alt=\"Open In Colab\"/></a>"
      ]
    },
    {
      "metadata": {
        "id": "S5g05oArZ2fb",
        "colab_type": "text"
      },
      "cell_type": "markdown",
      "source": [
        "# Only run on google collab"
      ]
    },
    {
      "metadata": {
        "id": "ajE0cEI6Zyes",
        "colab_type": "code",
        "outputId": "7773e218-485e-4ba7-a9f0-f1b69dc47878",
        "colab": {
          "base_uri": "https://localhost:8080/",
          "height": 126
        }
      },
      "cell_type": "code",
      "source": [
        "!rm -rf robotics-final\n",
        "!git clone https://github.com/pelegharel/robotics-final.git"
      ],
      "execution_count": 0,
      "outputs": [
        {
          "output_type": "stream",
          "text": [
            "Cloning into 'robotics-final'...\n",
            "remote: Enumerating objects: 9, done.\u001b[K\n",
            "remote: Counting objects:  11% (1/9)   \u001b[K\rremote: Counting objects:  22% (2/9)   \u001b[K\rremote: Counting objects:  33% (3/9)   \u001b[K\rremote: Counting objects:  44% (4/9)   \u001b[K\rremote: Counting objects:  55% (5/9)   \u001b[K\rremote: Counting objects:  66% (6/9)   \u001b[K\rremote: Counting objects:  77% (7/9)   \u001b[K\rremote: Counting objects:  88% (8/9)   \u001b[K\rremote: Counting objects: 100% (9/9)   \u001b[K\rremote: Counting objects: 100% (9/9), done.\u001b[K\n",
            "remote: Compressing objects:  14% (1/7)   \u001b[K\rremote: Compressing objects:  28% (2/7)   \u001b[K\rremote: Compressing objects:  42% (3/7)   \u001b[K\rremote: Compressing objects:  57% (4/7)   \u001b[K\rremote: Compressing objects:  71% (5/7)   \u001b[K\rremote: Compressing objects:  85% (6/7)   \u001b[K\rremote: Compressing objects: 100% (7/7)   \u001b[K\rremote: Compressing objects: 100% (7/7), done.\u001b[K\n",
            "remote: Total 9 (delta 0), reused 0 (delta 0), pack-reused 0\u001b[K\n",
            "Unpacking objects:  11% (1/9)   \rUnpacking objects:  22% (2/9)   \rUnpacking objects:  33% (3/9)   \rUnpacking objects:  44% (4/9)   \rUnpacking objects:  55% (5/9)   \rUnpacking objects:  66% (6/9)   \rUnpacking objects:  77% (7/9)   \rUnpacking objects:  88% (8/9)   \rUnpacking objects: 100% (9/9)   \rUnpacking objects: 100% (9/9), done.\n"
          ],
          "name": "stdout"
        }
      ]
    },
    {
      "metadata": {
        "id": "i-kuq8C5yjJ0",
        "colab_type": "code",
        "colab": {}
      },
      "cell_type": "code",
      "source": [
        "import numpy as np\n",
        "from numpy.linalg import norm\n",
        "from matplotlib import pyplot as plt\n",
        "import cv2"
      ],
      "execution_count": 0,
      "outputs": []
    },
    {
      "metadata": {
        "id": "0rgdBJQgFKh4",
        "colab_type": "code",
        "colab": {}
      },
      "cell_type": "code",
      "source": [
        "def unit_vector(vector):\n",
        "  return vector / norm(vector)\n",
        "\n",
        "def unit_vectors(vectors):\n",
        "    \"\"\" Returns the unit vector of the vector.  \"\"\"\n",
        "    return vectors / norm(vectors, axis=1).reshape(-1, 1)\n",
        "\n",
        "def angles2vecs(robot_rotation, point_vectors):\n",
        "    v1 = unit_vector(robot_rotation)\n",
        "    v2s = unit_vectors(point_vectors)\n",
        "    cosines = v2s @ v1.reshape(2, 1)\n",
        "    sinuses = np.column_stack((-v2s[:,1], v2s[:,0])) @ v1.reshape(2, 1)\n",
        "    return np.arctan2(sinuses, cosines)"
      ],
      "execution_count": 0,
      "outputs": []
    },
    {
      "metadata": {
        "id": "cfQ_kX515dm3",
        "colab_type": "code",
        "outputId": "c672197f-365d-4604-ac11-c01ff698b510",
        "colab": {
          "base_uri": "https://localhost:8080/",
          "height": 292
        }
      },
      "cell_type": "code",
      "source": [
        "CAVANT = 254\n",
        "UKNOWN = 205\n",
        "OCCUPIED = 0\n",
        "\n",
        "wm = cv2.imread(\"robotics-final/map.pgm\")[150:200, 150:250, 1]\n",
        "plt.imshow(wm)\n",
        "robot_pos = (33, 55)\n",
        "roll = np.pi\n",
        "robot_rotation = (np.sin(roll), np.cos(roll))\n",
        "\n",
        "occ_points = np.argwhere(wm == OCCUPIED)\n",
        "vectors = occ_points - robot_pos\n",
        "angles = angles2vecs(robot_rotation, vectors)\n",
        "\n",
        "points_of_right = occ_points[np.where(angles > 0)[0]]\n",
        "\n",
        "min_right_point = occ_points[np.argmin(norm(occ_points - robot_pos, axis=1))]\n",
        "\n",
        "\n",
        "plt.scatter(points_of_right[:,1],\n",
        "            points_of_right[:,0],\n",
        "            row,\n",
        "            color='green')\n",
        "\n",
        "plt.scatter(*min_right_point[::-1], color='blue')  \n",
        "plt.scatter(*robot_pos[::-1], color='red')\n",
        "plt.arrow(robot_pos[1], robot_pos[0],\n",
        "          3 * robot_rotation[1],\n",
        "          3 * robot_rotation[0],\n",
        "          color='red')"
      ],
      "execution_count": 152,
      "outputs": [
        {
          "output_type": "execute_result",
          "data": {
            "text/plain": [
              "<matplotlib.patches.FancyArrow at 0x7efeba8edf28>"
            ]
          },
          "metadata": {
            "tags": []
          },
          "execution_count": 152
        },
        {
          "output_type": "display_data",
          "data": {
            "image/png": "[encoded data removed]",
            "text/plain": [
              "<Figure size 576x396 with 1 Axes>"
            ]
          },
          "metadata": {
            "tags": []
          }
        }
      ]
    }
  ]
}